{
 "cells": [
  {
   "cell_type": "code",
   "execution_count": 124,
   "metadata": {
    "collapsed": true
   },
   "outputs": [],
   "source": [
    "%matplotlib inline"
   ]
  },
  {
   "cell_type": "code",
   "execution_count": 125,
   "metadata": {
    "collapsed": true
   },
   "outputs": [],
   "source": [
    "import pandas as pd"
   ]
  },
  {
   "cell_type": "code",
   "execution_count": 126,
   "metadata": {
    "collapsed": false
   },
   "outputs": [
    {
     "name": "stdout",
     "output_type": "stream",
     "text": [
      "Populating the interactive namespace from numpy and matplotlib\n"
     ]
    }
   ],
   "source": [
    "import numpy as pd\n",
    "from sklearn.linear_model import LinearRegression\n",
    "%pylab inline\n",
    "import matplotlib.pyplot as plt"
   ]
  },
  {
   "cell_type": "code",
   "execution_count": 127,
   "metadata": {
    "collapsed": false
   },
   "outputs": [],
   "source": [
    "import pandas as pd\n",
    "X = pd.read_csv('/Users/annettechiu/Desktop/Health_indicators/RISKFACTORSANDACCESSTOCARE.csv')"
   ]
  },
  {
   "cell_type": "code",
   "execution_count": 128,
   "metadata": {
    "collapsed": false
   },
   "outputs": [
    {
     "data": {
      "text/html": [
       "<div>\n",
       "<table border=\"1\" class=\"dataframe\">\n",
       "  <thead>\n",
       "    <tr style=\"text-align: right;\">\n",
       "      <th></th>\n",
       "      <th>State_FIPS_Code</th>\n",
       "      <th>County_FIPS_Code</th>\n",
       "      <th>CHSI_County_Name</th>\n",
       "      <th>CHSI_State_Name</th>\n",
       "      <th>CHSI_State_Abbr</th>\n",
       "      <th>Strata_ID_Number</th>\n",
       "      <th>No_Exercise</th>\n",
       "      <th>CI_Min_No_Exercise</th>\n",
       "      <th>CI_Max_No_Exercise</th>\n",
       "      <th>Few_Fruit_Veg</th>\n",
       "      <th>...</th>\n",
       "      <th>Diabetes</th>\n",
       "      <th>CI_Min_Diabetes</th>\n",
       "      <th>CI_Max_Diabetes</th>\n",
       "      <th>Uninsured</th>\n",
       "      <th>Elderly_Medicare</th>\n",
       "      <th>Disabled_Medicare</th>\n",
       "      <th>Prim_Care_Phys_Rate</th>\n",
       "      <th>Dentist_Rate</th>\n",
       "      <th>Community_Health_Center_Ind</th>\n",
       "      <th>HPSA_Ind</th>\n",
       "    </tr>\n",
       "  </thead>\n",
       "  <tbody>\n",
       "    <tr>\n",
       "      <th>0</th>\n",
       "      <td>1</td>\n",
       "      <td>1</td>\n",
       "      <td>Autauga</td>\n",
       "      <td>Alabama</td>\n",
       "      <td>AL</td>\n",
       "      <td>29</td>\n",
       "      <td>27.8</td>\n",
       "      <td>20.7</td>\n",
       "      <td>34.9</td>\n",
       "      <td>78.6</td>\n",
       "      <td>...</td>\n",
       "      <td>14.2</td>\n",
       "      <td>9.1</td>\n",
       "      <td>19.3</td>\n",
       "      <td>5690</td>\n",
       "      <td>4762</td>\n",
       "      <td>1209</td>\n",
       "      <td>45.3</td>\n",
       "      <td>22.6</td>\n",
       "      <td>1</td>\n",
       "      <td>2</td>\n",
       "    </tr>\n",
       "    <tr>\n",
       "      <th>1</th>\n",
       "      <td>1</td>\n",
       "      <td>3</td>\n",
       "      <td>Baldwin</td>\n",
       "      <td>Alabama</td>\n",
       "      <td>AL</td>\n",
       "      <td>16</td>\n",
       "      <td>27.2</td>\n",
       "      <td>23.2</td>\n",
       "      <td>31.2</td>\n",
       "      <td>76.2</td>\n",
       "      <td>...</td>\n",
       "      <td>7.2</td>\n",
       "      <td>5.2</td>\n",
       "      <td>9.3</td>\n",
       "      <td>19798</td>\n",
       "      <td>22635</td>\n",
       "      <td>3839</td>\n",
       "      <td>67.0</td>\n",
       "      <td>30.8</td>\n",
       "      <td>1</td>\n",
       "      <td>2</td>\n",
       "    </tr>\n",
       "    <tr>\n",
       "      <th>2</th>\n",
       "      <td>1</td>\n",
       "      <td>5</td>\n",
       "      <td>Barbour</td>\n",
       "      <td>Alabama</td>\n",
       "      <td>AL</td>\n",
       "      <td>51</td>\n",
       "      <td>-1111.1</td>\n",
       "      <td>-1111.1</td>\n",
       "      <td>-1111.1</td>\n",
       "      <td>-1111.1</td>\n",
       "      <td>...</td>\n",
       "      <td>6.6</td>\n",
       "      <td>2.0</td>\n",
       "      <td>11.3</td>\n",
       "      <td>5126</td>\n",
       "      <td>3288</td>\n",
       "      <td>1092</td>\n",
       "      <td>45.8</td>\n",
       "      <td>24.6</td>\n",
       "      <td>1</td>\n",
       "      <td>2</td>\n",
       "    </tr>\n",
       "    <tr>\n",
       "      <th>3</th>\n",
       "      <td>1</td>\n",
       "      <td>7</td>\n",
       "      <td>Bibb</td>\n",
       "      <td>Alabama</td>\n",
       "      <td>AL</td>\n",
       "      <td>42</td>\n",
       "      <td>-1111.1</td>\n",
       "      <td>-1111.1</td>\n",
       "      <td>-1111.1</td>\n",
       "      <td>86.6</td>\n",
       "      <td>...</td>\n",
       "      <td>13.1</td>\n",
       "      <td>4.7</td>\n",
       "      <td>21.5</td>\n",
       "      <td>3315</td>\n",
       "      <td>2390</td>\n",
       "      <td>974</td>\n",
       "      <td>41.8</td>\n",
       "      <td>18.6</td>\n",
       "      <td>1</td>\n",
       "      <td>1</td>\n",
       "    </tr>\n",
       "    <tr>\n",
       "      <th>4</th>\n",
       "      <td>1</td>\n",
       "      <td>9</td>\n",
       "      <td>Blount</td>\n",
       "      <td>Alabama</td>\n",
       "      <td>AL</td>\n",
       "      <td>28</td>\n",
       "      <td>33.5</td>\n",
       "      <td>26.3</td>\n",
       "      <td>40.6</td>\n",
       "      <td>74.6</td>\n",
       "      <td>...</td>\n",
       "      <td>8.4</td>\n",
       "      <td>4.4</td>\n",
       "      <td>12.4</td>\n",
       "      <td>8131</td>\n",
       "      <td>5019</td>\n",
       "      <td>1300</td>\n",
       "      <td>16.2</td>\n",
       "      <td>10.8</td>\n",
       "      <td>2</td>\n",
       "      <td>1</td>\n",
       "    </tr>\n",
       "  </tbody>\n",
       "</table>\n",
       "<p>5 rows × 31 columns</p>\n",
       "</div>"
      ],
      "text/plain": [
       "   State_FIPS_Code  County_FIPS_Code CHSI_County_Name CHSI_State_Name  \\\n",
       "0                1                 1          Autauga         Alabama   \n",
       "1                1                 3          Baldwin         Alabama   \n",
       "2                1                 5          Barbour         Alabama   \n",
       "3                1                 7             Bibb         Alabama   \n",
       "4                1                 9           Blount         Alabama   \n",
       "\n",
       "  CHSI_State_Abbr  Strata_ID_Number  No_Exercise  CI_Min_No_Exercise  \\\n",
       "0              AL                29         27.8                20.7   \n",
       "1              AL                16         27.2                23.2   \n",
       "2              AL                51      -1111.1             -1111.1   \n",
       "3              AL                42      -1111.1             -1111.1   \n",
       "4              AL                28         33.5                26.3   \n",
       "\n",
       "   CI_Max_No_Exercise  Few_Fruit_Veg    ...     Diabetes  CI_Min_Diabetes  \\\n",
       "0                34.9           78.6    ...         14.2              9.1   \n",
       "1                31.2           76.2    ...          7.2              5.2   \n",
       "2             -1111.1        -1111.1    ...          6.6              2.0   \n",
       "3             -1111.1           86.6    ...         13.1              4.7   \n",
       "4                40.6           74.6    ...          8.4              4.4   \n",
       "\n",
       "   CI_Max_Diabetes  Uninsured  Elderly_Medicare  Disabled_Medicare  \\\n",
       "0             19.3       5690              4762               1209   \n",
       "1              9.3      19798             22635               3839   \n",
       "2             11.3       5126              3288               1092   \n",
       "3             21.5       3315              2390                974   \n",
       "4             12.4       8131              5019               1300   \n",
       "\n",
       "   Prim_Care_Phys_Rate  Dentist_Rate  Community_Health_Center_Ind  HPSA_Ind  \n",
       "0                 45.3          22.6                            1         2  \n",
       "1                 67.0          30.8                            1         2  \n",
       "2                 45.8          24.6                            1         2  \n",
       "3                 41.8          18.6                            1         1  \n",
       "4                 16.2          10.8                            2         1  \n",
       "\n",
       "[5 rows x 31 columns]"
      ]
     },
     "execution_count": 128,
     "metadata": {},
     "output_type": "execute_result"
    }
   ],
   "source": [
    "X.head()"
   ]
  },
  {
   "cell_type": "code",
   "execution_count": 129,
   "metadata": {
    "collapsed": false
   },
   "outputs": [],
   "source": [
    "X = X[X['No_Exercise'] > -100]"
   ]
  },
  {
   "cell_type": "code",
   "execution_count": 130,
   "metadata": {
    "collapsed": true
   },
   "outputs": [],
   "source": [
    "X = X[X['Diabetes'] > -100]"
   ]
  },
  {
   "cell_type": "code",
   "execution_count": 131,
   "metadata": {
    "collapsed": false,
    "scrolled": true
   },
   "outputs": [
    {
     "data": {
      "image/png": "[encoded data removed]",
      "text/plain": [
       "<matplotlib.figure.Figure at 0x1188671d0>"
      ]
     },
     "metadata": {},
     "output_type": "display_data"
    }
   ],
   "source": [
    "X.hist('No_Exercise');"
   ]
  },
  {
   "cell_type": "code",
   "execution_count": 132,
   "metadata": {
    "collapsed": false
   },
   "outputs": [
    {
     "data": {
      "image/png": "[encoded data removed]",
      "text/plain": [
       "<matplotlib.figure.Figure at 0x111f47210>"
      ]
     },
     "metadata": {},
     "output_type": "display_data"
    }
   ],
   "source": [
    "X.hist('Diabetes');"
   ]
  },
  {
   "cell_type": "code",
   "execution_count": 133,
   "metadata": {
    "collapsed": false
   },
   "outputs": [
    {
     "data": {
      "image/png": "[encoded data removed]",
      "text/plain": [
       "<matplotlib.figure.Figure at 0x115d96ad0>"
      ]
     },
     "metadata": {},
     "output_type": "display_data"
    }
   ],
   "source": [
    "X.hist('Diabetes');"
   ]
  },
  {
   "cell_type": "code",
   "execution_count": 134,
   "metadata": {
    "collapsed": false
   },
   "outputs": [
    {
     "data": {
      "text/plain": [
       "Index([u'State_FIPS_Code', u'County_FIPS_Code', u'CHSI_County_Name',\n",
       "       u'CHSI_State_Name', u'CHSI_State_Abbr', u'Strata_ID_Number',\n",
       "       u'No_Exercise', u'CI_Min_No_Exercise', u'CI_Max_No_Exercise',\n",
       "       u'Few_Fruit_Veg', u'CI_Min_Fruit_Veg', u'CI_Max_Fruit_Veg', u'Obesity',\n",
       "       u'CI_Min_Obesity', u'CI_Max_Obesity', u'High_Blood_Pres',\n",
       "       u'CI_Min_High_Blood_Pres', u'CI_Max_High_Blood_Pres', u'Smoker',\n",
       "       u'CI_Min_Smoker', u'CI_Max_Smoker', u'Diabetes', u'CI_Min_Diabetes',\n",
       "       u'CI_Max_Diabetes', u'Uninsured', u'Elderly_Medicare',\n",
       "       u'Disabled_Medicare', u'Prim_Care_Phys_Rate', u'Dentist_Rate',\n",
       "       u'Community_Health_Center_Ind', u'HPSA_Ind'],\n",
       "      dtype='object')"
      ]
     },
     "execution_count": 134,
     "metadata": {},
     "output_type": "execute_result"
    }
   ],
   "source": [
    "#remove any points with a missing y value\n",
    "filtered_data =X[~np.isnan(X[\"No_Exercise\"])]\n",
    "filtered_data.head(3)\n",
    "filtered_data.columns"
   ]
  },
  {
   "cell_type": "code",
   "execution_count": 135,
   "metadata": {
    "collapsed": false
   },
   "outputs": [
    {
     "data": {
      "text/html": [
       "<div>\n",
       "<table border=\"1\" class=\"dataframe\">\n",
       "  <thead>\n",
       "    <tr style=\"text-align: right;\">\n",
       "      <th></th>\n",
       "      <th>No_Exercise</th>\n",
       "      <th>Disabled_Medicare</th>\n",
       "    </tr>\n",
       "  </thead>\n",
       "  <tbody>\n",
       "    <tr>\n",
       "      <th>No_Exercise</th>\n",
       "      <td>1.000000</td>\n",
       "      <td>-0.058422</td>\n",
       "    </tr>\n",
       "    <tr>\n",
       "      <th>Disabled_Medicare</th>\n",
       "      <td>-0.058422</td>\n",
       "      <td>1.000000</td>\n",
       "    </tr>\n",
       "  </tbody>\n",
       "</table>\n",
       "</div>"
      ],
      "text/plain": [
       "                   No_Exercise  Disabled_Medicare\n",
       "No_Exercise           1.000000          -0.058422\n",
       "Disabled_Medicare    -0.058422           1.000000"
      ]
     },
     "execution_count": 135,
     "metadata": {},
     "output_type": "execute_result"
    }
   ],
   "source": [
    "filtered_data[['No_Exercise','Disabled_Medicare']].corr()"
   ]
  },
  {
   "cell_type": "code",
   "execution_count": 136,
   "metadata": {
    "collapsed": false
   },
   "outputs": [
    {
     "data": {
      "text/html": [
       "<div>\n",
       "<table border=\"1\" class=\"dataframe\">\n",
       "  <thead>\n",
       "    <tr style=\"text-align: right;\">\n",
       "      <th></th>\n",
       "      <th>No_Exercise</th>\n",
       "      <th>High_Blood_Pres</th>\n",
       "    </tr>\n",
       "  </thead>\n",
       "  <tbody>\n",
       "    <tr>\n",
       "      <th>No_Exercise</th>\n",
       "      <td>1.000000</td>\n",
       "      <td>-0.171865</td>\n",
       "    </tr>\n",
       "    <tr>\n",
       "      <th>High_Blood_Pres</th>\n",
       "      <td>-0.171865</td>\n",
       "      <td>1.000000</td>\n",
       "    </tr>\n",
       "  </tbody>\n",
       "</table>\n",
       "</div>"
      ],
      "text/plain": [
       "                 No_Exercise  High_Blood_Pres\n",
       "No_Exercise         1.000000        -0.171865\n",
       "High_Blood_Pres    -0.171865         1.000000"
      ]
     },
     "execution_count": 136,
     "metadata": {},
     "output_type": "execute_result"
    }
   ],
   "source": [
    "filtered_data[['No_Exercise','High_Blood_Pres']].corr()"
   ]
  },
  {
   "cell_type": "code",
   "execution_count": 137,
   "metadata": {
    "collapsed": false
   },
   "outputs": [
    {
     "data": {
      "text/html": [
       "<div>\n",
       "<table border=\"1\" class=\"dataframe\">\n",
       "  <thead>\n",
       "    <tr style=\"text-align: right;\">\n",
       "      <th></th>\n",
       "      <th>No_Exercise</th>\n",
       "      <th>Elderly_Medicare</th>\n",
       "    </tr>\n",
       "  </thead>\n",
       "  <tbody>\n",
       "    <tr>\n",
       "      <th>No_Exercise</th>\n",
       "      <td>1.000000</td>\n",
       "      <td>-0.101842</td>\n",
       "    </tr>\n",
       "    <tr>\n",
       "      <th>Elderly_Medicare</th>\n",
       "      <td>-0.101842</td>\n",
       "      <td>1.000000</td>\n",
       "    </tr>\n",
       "  </tbody>\n",
       "</table>\n",
       "</div>"
      ],
      "text/plain": [
       "                  No_Exercise  Elderly_Medicare\n",
       "No_Exercise          1.000000         -0.101842\n",
       "Elderly_Medicare    -0.101842          1.000000"
      ]
     },
     "execution_count": 137,
     "metadata": {},
     "output_type": "execute_result"
    }
   ],
   "source": [
    "filtered_data[['No_Exercise','Elderly_Medicare']].corr()"
   ]
  },
  {
   "cell_type": "code",
   "execution_count": 138,
   "metadata": {
    "collapsed": false
   },
   "outputs": [
    {
     "data": {
      "text/html": [
       "<div>\n",
       "<table border=\"1\" class=\"dataframe\">\n",
       "  <thead>\n",
       "    <tr style=\"text-align: right;\">\n",
       "      <th></th>\n",
       "      <th>No_Exercise</th>\n",
       "      <th>Obesity</th>\n",
       "    </tr>\n",
       "  </thead>\n",
       "  <tbody>\n",
       "    <tr>\n",
       "      <th>No_Exercise</th>\n",
       "      <td>1.000000</td>\n",
       "      <td>0.066733</td>\n",
       "    </tr>\n",
       "    <tr>\n",
       "      <th>Obesity</th>\n",
       "      <td>0.066733</td>\n",
       "      <td>1.000000</td>\n",
       "    </tr>\n",
       "  </tbody>\n",
       "</table>\n",
       "</div>"
      ],
      "text/plain": [
       "             No_Exercise   Obesity\n",
       "No_Exercise     1.000000  0.066733\n",
       "Obesity         0.066733  1.000000"
      ]
     },
     "execution_count": 138,
     "metadata": {},
     "output_type": "execute_result"
    }
   ],
   "source": [
    "filtered_data[['No_Exercise','Obesity']].corr()"
   ]
  },
  {
   "cell_type": "code",
   "execution_count": 139,
   "metadata": {
    "collapsed": false
   },
   "outputs": [
    {
     "data": {
      "text/html": [
       "<div>\n",
       "<table border=\"1\" class=\"dataframe\">\n",
       "  <thead>\n",
       "    <tr style=\"text-align: right;\">\n",
       "      <th></th>\n",
       "      <th>No_Exercise</th>\n",
       "      <th>Diabetes</th>\n",
       "    </tr>\n",
       "  </thead>\n",
       "  <tbody>\n",
       "    <tr>\n",
       "      <th>No_Exercise</th>\n",
       "      <td>1.000000</td>\n",
       "      <td>0.484777</td>\n",
       "    </tr>\n",
       "    <tr>\n",
       "      <th>Diabetes</th>\n",
       "      <td>0.484777</td>\n",
       "      <td>1.000000</td>\n",
       "    </tr>\n",
       "  </tbody>\n",
       "</table>\n",
       "</div>"
      ],
      "text/plain": [
       "             No_Exercise  Diabetes\n",
       "No_Exercise     1.000000  0.484777\n",
       "Diabetes        0.484777  1.000000"
      ]
     },
     "execution_count": 139,
     "metadata": {},
     "output_type": "execute_result"
    }
   ],
   "source": [
    "filtered_data[['No_Exercise','Diabetes']].corr()"
   ]
  },
  {
   "cell_type": "code",
   "execution_count": 140,
   "metadata": {
    "collapsed": false
   },
   "outputs": [
    {
     "data": {
      "text/html": [
       "<div>\n",
       "<table border=\"1\" class=\"dataframe\">\n",
       "  <thead>\n",
       "    <tr style=\"text-align: right;\">\n",
       "      <th></th>\n",
       "      <th>No_Exercise</th>\n",
       "      <th>Prim_Care_Phys_Rate</th>\n",
       "    </tr>\n",
       "  </thead>\n",
       "  <tbody>\n",
       "    <tr>\n",
       "      <th>No_Exercise</th>\n",
       "      <td>1.000000</td>\n",
       "      <td>-0.305625</td>\n",
       "    </tr>\n",
       "    <tr>\n",
       "      <th>Prim_Care_Phys_Rate</th>\n",
       "      <td>-0.305625</td>\n",
       "      <td>1.000000</td>\n",
       "    </tr>\n",
       "  </tbody>\n",
       "</table>\n",
       "</div>"
      ],
      "text/plain": [
       "                     No_Exercise  Prim_Care_Phys_Rate\n",
       "No_Exercise             1.000000            -0.305625\n",
       "Prim_Care_Phys_Rate    -0.305625             1.000000"
      ]
     },
     "execution_count": 140,
     "metadata": {},
     "output_type": "execute_result"
    }
   ],
   "source": [
    "filtered_data[['No_Exercise','Prim_Care_Phys_Rate']].corr()"
   ]
  },
  {
   "cell_type": "code",
   "execution_count": 147,
   "metadata": {
    "collapsed": false
   },
   "outputs": [
    {
     "name": "stdout",
     "output_type": "stream",
     "text": [
      "formula: y = [ 0.45243906]x + [ 75.08070777]\n"
     ]
    }
   ],
   "source": [
    "npMatrix = np.matrix(filtered_data)\n",
    "No_Exercise,Prim_Care_Phys_Rate = npMatrix[:,0], npMatrix[:,1]\n",
    "mdl = LinearRegression().fit(No_Exercise,Prim_Care_Phys_Rate) # either this or the next line\n",
    "#mdl = LinearRegression().fit(filtered_data[['x']],filtered_data.y)\n",
    "m = mdl.coef_[0]\n",
    "b = mdl.intercept_\n",
    "print \"formula: y = {0}x + {1}\".format(m, b) # following slope intercept form "
   ]
  },
  {
   "cell_type": "code",
   "execution_count": 148,
   "metadata": {
    "collapsed": false
   },
   "outputs": [
    {
     "data": {
      "text/plain": [
       "<matplotlib.text.Text at 0x111f4ea50>"
      ]
     },
     "execution_count": 148,
     "metadata": {},
     "output_type": "execute_result"
    },
    {
     "data": {
      "image/png": "[encoded data removed]",
      "text/plain": [
       "<matplotlib.figure.Figure at 0x115d73a90>"
      ]
     },
     "metadata": {},
     "output_type": "display_data"
    }
   ],
   "source": [
    "plt.scatter(No_Exercise,Prim_Care_Phys_Rate, color='blue')\n",
    "plt.plot([0,100],[b,m*100+b],'r')\n",
    "plt.title('Linear Regression', fontsize = 20)\n",
    "plt.xlabel('No_Exercise', fontsize = 15)\n",
    "plt.ylabel('Prim_Care_Phys_Rate', fontsize = 15)"
   ]
  },
  {
   "cell_type": "code",
   "execution_count": 141,
   "metadata": {
    "collapsed": false
   },
   "outputs": [
    {
     "name": "stdout",
     "output_type": "stream",
     "text": [
      "formula: y = [ 0.45243906]x + [ 75.08070777]\n"
     ]
    }
   ],
   "source": [
    "npMatrix = np.matrix(filtered_data)\n",
    "No_Exercise, Diabetes = npMatrix[:,0], npMatrix[:,1]\n",
    "mdl = LinearRegression().fit(No_Exercise,Diabetes) # either this or the next line\n",
    "#mdl = LinearRegression().fit(filtered_data[['x']],filtered_data.y)\n",
    "m = mdl.coef_[0]\n",
    "b = mdl.intercept_\n",
    "print \"formula: y = {0}x + {1}\".format(m, b) # following slope intercept form "
   ]
  },
  {
   "cell_type": "code",
   "execution_count": 142,
   "metadata": {
    "collapsed": false,
    "scrolled": true
   },
   "outputs": [
    {
     "data": {
      "text/plain": [
       "<matplotlib.text.Text at 0x1192642d0>"
      ]
     },
     "execution_count": 142,
     "metadata": {},
     "output_type": "execute_result"
    },
    {
     "data": {
      "image/png": "[encoded data removed]",
      "text/plain": [
       "<matplotlib.figure.Figure at 0x111ff4190>"
      ]
     },
     "metadata": {},
     "output_type": "display_data"
    }
   ],
   "source": [
    "plt.scatter(No_Exercise,Diabetes, color='blue')\n",
    "plt.plot([0,100],[b,m*100+b],'r')\n",
    "plt.title('Linear Regression', fontsize = 20)\n",
    "plt.xlabel('No_Exercise', fontsize = 15)\n",
    "plt.ylabel('Diabetes', fontsize = 15)"
   ]
  }
 ],
 "metadata": {
  "anaconda-cloud": {},
  "kernelspec": {
   "display_name": "Python [Root]",
   "language": "python",
   "name": "Python [Root]"
  },
  "language_info": {
   "codemirror_mode": {
    "name": "ipython",
    "version": 2
   },
   "file_extension": ".py",
   "mimetype": "text/x-python",
   "name": "python",
   "nbconvert_exporter": "python",
   "pygments_lexer": "ipython2",
   "version": "2.7.12"
  }
 },
 "nbformat": 4,
 "nbformat_minor": 0
}
